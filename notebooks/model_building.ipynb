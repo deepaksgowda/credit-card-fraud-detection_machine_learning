{
 "cells": [
  {
   "cell_type": "code",
   "execution_count": 1,
   "metadata": {},
   "outputs": [
    {
     "name": "stdout",
     "output_type": "stream",
     "text": [
      "Modules imported successfully!\n"
     ]
    }
   ],
   "source": [
    "import sys\n",
    "import os\n",
    "\n",
    "# Add the parent directory (which contains both 'notebooks' and 'src') to the Python path\n",
    "parent_dir = os.path.abspath('..')\n",
    "sys.path.append(parent_dir)\n",
    "\n",
    "# Now try importing the modules again\n",
    "try:\n",
    "    from src.preprocessing import load_data, preprocess_data\n",
    "    from src.train_model import train_logistic_regression, train_decision_tree, train_random_forest\n",
    "    from src.evaluation import evaluate_model\n",
    "    from src.save_model import save_model\n",
    "    print(\"Modules imported successfully!\")\n",
    "except ModuleNotFoundError as e:\n",
    "    print(f\"Error importing modules: {e}\")\n"
   ]
  },
  {
   "cell_type": "markdown",
   "metadata": {},
   "source": [
    "from src.preprocessing import load_data, preprocess_data\n",
    "from src.train_model import train_logistic_regression, train_decision_tree, train_random_forest\n"
   ]
  },
  {
   "cell_type": "markdown",
   "metadata": {},
   "source": [
    "import sys\n",
    "import os\n",
    "\n",
    "# Add the root directory to the Python path\n",
    "sys.path.append(os.path.abspath('.'))\n"
   ]
  },
  {
   "cell_type": "markdown",
   "metadata": {},
   "source": [
    "from src.preprocessing import load_data, preprocess_data\n",
    "from src.train_model import train_logistic_regression, train_decision_tree, train_random_forest\n"
   ]
  }
 ],
 "metadata": {
  "kernelspec": {
   "display_name": "Python 3 (ipykernel)",
   "language": "python",
   "name": "python3"
  },
  "language_info": {
   "codemirror_mode": {
    "name": "ipython",
    "version": 3
   },
   "file_extension": ".py",
   "mimetype": "text/x-python",
   "name": "python",
   "nbconvert_exporter": "python",
   "pygments_lexer": "ipython3",
   "version": "3.12.3"
  }
 },
 "nbformat": 4,
 "nbformat_minor": 4
}
